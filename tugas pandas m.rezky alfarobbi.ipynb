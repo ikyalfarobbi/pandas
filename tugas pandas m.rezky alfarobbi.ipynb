{
 "cells": [
  {
   "cell_type": "markdown",
   "metadata": {},
   "source": [
    "pandas"
   ]
  },
  {
   "cell_type": "code",
   "execution_count": 1,
   "metadata": {},
   "outputs": [
    {
     "name": "stdout",
     "output_type": "stream",
     "text": [
      "DataFrame:\n",
      "  Nama Kelas Gender domisili_asal  usia\n",
      "0  Ana    2A  Cewek     Pekanbaru    16\n",
      "1  Anu    2B  Cowok     Luar Kota    17\n",
      "2  Ano    2C  Cowok     Pekanbaru    16\n",
      "3  Ani    2D  Cewek     Luar Kota    18\n",
      "4  Ane    2E  Cewek     Pekanbaru    17\n",
      "5  Abu    2F  Cowok     Pekanbaru    19\n",
      "6  Abi    2G  Cowok     Luar Kota    16\n",
      "\n",
      "Rata-rata usia: 17.0\n",
      "Total usia: 119\n",
      "\n",
      "Jumlah yang berasal dari Pekanbaru: 4\n",
      "Jumlah yang berasal dari Luar Kota: 3\n"
     ]
    }
   ],
   "source": [
    "import pandas as pd\n",
    "\n",
    "# Data awal\n",
    "data = {\n",
    "    'Nama': ['Ana', 'Anu', 'Ano', 'Ani', 'Ane', 'Abu', 'Abi'],\n",
    "    'Kelas': ['2A', '2B', '2C', '2D', '2E', '2F', '2G'],\n",
    "    'Gender': ['Cewek', 'Cowok', 'Cowok', 'Cewek', 'Cewek', 'Cowok', 'Cowok'],\n",
    "    'Nomor_HP': ['08113322582', '08129988563', '08137896541', '08144447789', '08158886665', '08173337744', '08198877444']\n",
    "}\n",
    "\n",
    "# Membuat DataFrame\n",
    "df = pd.DataFrame(data)\n",
    "\n",
    "# Menambahkan kolom \"domisili_asal\"\n",
    "df['domisili_asal'] = ['Pekanbaru', 'Luar Kota', 'Pekanbaru', 'Luar Kota', 'Pekanbaru', 'Pekanbaru', 'Luar Kota']\n",
    "\n",
    "# Menghapus kolom \"Nomor_HP\"\n",
    "df.drop(columns=['Nomor_HP'], inplace=True)\n",
    "\n",
    "# Menambahkan kolom \"usia\" dengan nilai acak\n",
    "df['usia'] = [16, 17, 16, 18, 17, 19, 16]\n",
    "\n",
    "# Menghitung rata-rata usia\n",
    "mean_age = df['usia'].mean()\n",
    "\n",
    "# Menghitung total usia\n",
    "sum_age = df['usia'].sum()\n",
    "\n",
    "# Menghitung jumlah domisili\n",
    "count_pekanbaru = df[df['domisili_asal'] == 'Pekanbaru'].shape[0]\n",
    "count_luar_kota = df[df['domisili_asal'] == 'Luar Kota'].shape[0]\n",
    "\n",
    "# Menampilkan DataFrame dan hasil perhitungan\n",
    "print(\"DataFrame:\")\n",
    "print(df)\n",
    "print(\"\\nRata-rata usia:\", mean_age)\n",
    "print(\"Total usia:\", sum_age)\n",
    "print(\"\\nJumlah yang berasal dari Pekanbaru:\", count_pekanbaru)\n",
    "print(\"Jumlah yang berasal dari Luar Kota:\", count_luar_kota)\n"
   ]
  },
  {
   "cell_type": "code",
   "execution_count": null,
   "metadata": {},
   "outputs": [],
   "source": []
  }
 ],
 "metadata": {
  "kernelspec": {
   "display_name": "Python 3",
   "language": "python",
   "name": "python3"
  },
  "language_info": {
   "codemirror_mode": {
    "name": "ipython",
    "version": 3
   },
   "file_extension": ".py",
   "mimetype": "text/x-python",
   "name": "python",
   "nbconvert_exporter": "python",
   "pygments_lexer": "ipython3",
   "version": "3.12.2"
  }
 },
 "nbformat": 4,
 "nbformat_minor": 2
}
